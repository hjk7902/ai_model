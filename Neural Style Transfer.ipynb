{
 "cells": [
  {
   "cell_type": "code",
   "execution_count": 1,
   "metadata": {
    "ExecuteTime": {
     "end_time": "2021-06-03T11:03:04.784794Z",
     "start_time": "2021-06-03T11:03:04.049278Z"
    }
   },
   "outputs": [],
   "source": [
    "# import the necessary packages\n",
    "import imutils\n",
    "import time\n",
    "import cv2"
   ]
  },
  {
   "cell_type": "code",
   "execution_count": 2,
   "metadata": {
    "ExecuteTime": {
     "end_time": "2021-06-03T11:03:05.931896Z",
     "start_time": "2021-06-03T11:03:05.426029Z"
    }
   },
   "outputs": [],
   "source": [
    "# load the neural style transfer model from disk\n",
    "net = cv2.dnn.readNetFromTorch(\"models/eccv16/starry_night.t7\")\n",
    "# load the input image, resize it to have a width of 600 pixels, and\n",
    "# then grab the image dimensions\n",
    "image = cv2.imread(\"images/lena.jpg\")\n",
    "image = imutils.resize(image, width=600)\n",
    "(h, w) = image.shape[:2]\n",
    "# construct a blob from the image, set the input, and then perform a\n",
    "# forward pass of the network\n",
    "blob = cv2.dnn.blobFromImage(image, 1.0, (w, h),\n",
    "\t(103.939, 116.779, 123.680), swapRB=False, crop=False)\n",
    "net.setInput(blob)\n",
    "start = time.time()\n",
    "output = net.forward()\n",
    "end = time.time()"
   ]
  },
  {
   "cell_type": "code",
   "execution_count": 3,
   "metadata": {
    "ExecuteTime": {
     "end_time": "2021-06-03T11:03:06.719374Z",
     "start_time": "2021-06-03T11:03:06.713363Z"
    }
   },
   "outputs": [],
   "source": [
    "# reshape the output tensor, add back in the mean subtraction, and\n",
    "# then swap the channel ordering\n",
    "output = output.reshape((3, output.shape[2], output.shape[3]))\n",
    "output[0] += 103.939\n",
    "output[1] += 116.779\n",
    "output[2] += 123.680\n",
    "output /= 255.0\n",
    "output = output.transpose(1, 2, 0)"
   ]
  },
  {
   "cell_type": "code",
   "execution_count": 5,
   "metadata": {
    "ExecuteTime": {
     "end_time": "2021-06-03T11:04:23.677026Z",
     "start_time": "2021-06-03T11:03:21.155087Z"
    }
   },
   "outputs": [
    {
     "name": "stdout",
     "output_type": "stream",
     "text": [
      "[INFO] neural style transfer took 0.4529 seconds\n"
     ]
    }
   ],
   "source": [
    "# show information on how long inference took\n",
    "print(\"[INFO] neural style transfer took {:.4f} seconds\".format(\n",
    "\tend - start))\n",
    "# show the images\n",
    "cv2.imshow(\"Input\", image)\n",
    "cv2.imshow(\"Output\", output)\n",
    "cv2.waitKey()\n",
    "cv2.destroyAllWindows()"
   ]
  },
  {
   "cell_type": "code",
   "execution_count": 6,
   "metadata": {
    "ExecuteTime": {
     "end_time": "2021-06-03T10:41:09.131139Z",
     "start_time": "2021-06-03T10:41:09.093151Z"
    }
   },
   "outputs": [],
   "source": []
  },
  {
   "cell_type": "code",
   "execution_count": 1,
   "metadata": {
    "ExecuteTime": {
     "end_time": "2021-06-03T11:36:56.421198Z",
     "start_time": "2021-06-03T11:36:56.370229Z"
    }
   },
   "outputs": [],
   "source": [
    "# import the necessary packages\n",
    "from imutils.video import VideoStream\n",
    "from imutils import paths\n",
    "import itertools\n",
    "import imutils\n",
    "import time\n",
    "import cv2"
   ]
  },
  {
   "cell_type": "code",
   "execution_count": 2,
   "metadata": {
    "ExecuteTime": {
     "end_time": "2021-06-03T11:36:58.451369Z",
     "start_time": "2021-06-03T11:36:58.333407Z"
    }
   },
   "outputs": [],
   "source": [
    "# grab the paths to all neural style transfer models in our 'models'\n",
    "# directory, provided all models end with the '.t7' file extension\n",
    "modelPaths = paths.list_files(\"models\", validExts=(\".t7\",))\n",
    "modelPaths = sorted(list(modelPaths))\n",
    "# generate unique IDs for each of the model paths, then combine the\n",
    "# two lists together\n",
    "models = list(zip(range(0, len(modelPaths)), (modelPaths)))\n",
    "# use the cycle function of itertools that can loop over all model\n",
    "# paths, and then when the end is reached, restart again\n",
    "modelIter = itertools.cycle(models)\n",
    "(modelID, modelPath) = next(modelIter)\n",
    "\n",
    "net = cv2.dnn.readNetFromTorch(modelPath)\n"
   ]
  },
  {
   "cell_type": "code",
   "execution_count": 3,
   "metadata": {
    "ExecuteTime": {
     "end_time": "2021-06-03T11:36:59.626998Z",
     "start_time": "2021-06-03T11:36:59.609990Z"
    }
   },
   "outputs": [],
   "source": [
    "# # load the neural style transfer model from disk\n",
    "# print(\"[INFO] loading style transfer model...\")\n",
    "# net = cv2.dnn.readNetFromTorch(modelPath)\n",
    "# # initialize the video stream, then allow the camera sensor to warm up\n",
    "# print(\"[INFO] starting video stream...\")\n",
    "# time.sleep(2.0)\n",
    "# print(\"[INFO] {}. {}\".format(modelID + 1, modelPath))"
   ]
  },
  {
   "cell_type": "code",
   "execution_count": 4,
   "metadata": {
    "ExecuteTime": {
     "end_time": "2021-06-03T11:37:19.471639Z",
     "start_time": "2021-06-03T11:37:00.176103Z"
    }
   },
   "outputs": [],
   "source": [
    "vs = VideoStream(src=0).start()\n",
    "\n",
    "# loop over frames from the video file stream\n",
    "while True:\n",
    "\t# grab the frame from the threaded video stream\n",
    "\tframe = vs.read()\n",
    "\t# resize the frame to have a width of 600 pixels (while\n",
    "\t# maintaining the aspect ratio), and then grab the image\n",
    "\t# dimensions\n",
    "\tframe = imutils.resize(frame, width=600)\n",
    "\torig = frame.copy()\n",
    "\t(h, w) = frame.shape[:2]\n",
    "\t# construct a blob from the frame, set the input, and then perform a\n",
    "\t# forward pass of the network\n",
    "\tblob = cv2.dnn.blobFromImage(frame, 1.0, (w, h),\n",
    "\t\t(103.939, 116.779, 123.680), swapRB=False, crop=False)\n",
    "\tnet.setInput(blob)\n",
    "\toutput = net.forward()\n",
    "\t# reshape the output tensor, add back in the mean subtraction, and\n",
    "\t# then swap the channel ordering\n",
    "\toutput = output.reshape((3, output.shape[2], output.shape[3]))\n",
    "\toutput[0] += 103.939\n",
    "\toutput[1] += 116.779\n",
    "\toutput[2] += 123.680\n",
    "\toutput /= 255.0\n",
    "\toutput = output.transpose(1, 2, 0)\n",
    "\t# show the original frame along with the output neural style\n",
    "\t# transfer\n",
    "\tcv2.imshow(\"Input\", frame)\n",
    "\tcv2.imshow(\"Output\", output)\n",
    "\tkey = cv2.waitKey(1) & 0xFF\n",
    "\t# if the `n` key is pressed (for \"next\"), load the next neural\n",
    "\t# style transfer model\n",
    "\tif key == ord(\"n\"):\n",
    "\t\t# grab the next neural style transfer model model and load it\n",
    "\t\t(modelID, modelPath) = next(modelIter)\n",
    "\t\tprint(\"[INFO] {}. {}\".format(modelID + 1, modelPath))\n",
    "\t\tnet = cv2.dnn.readNetFromTorch(modelPath)\n",
    "\t# otheriwse, if the `q` key was pressed, break from the loop\n",
    "\telif key == ord(\"q\"):\n",
    "\t\tbreak\n",
    "# do a bit of cleanup\n",
    "cv2.destroyAllWindows()\n",
    "vs.stop()"
   ]
  },
  {
   "cell_type": "code",
   "execution_count": null,
   "metadata": {},
   "outputs": [],
   "source": []
  }
 ],
 "metadata": {
  "kernelspec": {
   "display_name": "Python 3",
   "language": "python",
   "name": "python3"
  },
  "language_info": {
   "codemirror_mode": {
    "name": "ipython",
    "version": 3
   },
   "file_extension": ".py",
   "mimetype": "text/x-python",
   "name": "python",
   "nbconvert_exporter": "python",
   "pygments_lexer": "ipython3",
   "version": "3.8.5"
  },
  "toc": {
   "base_numbering": 1,
   "nav_menu": {},
   "number_sections": true,
   "sideBar": true,
   "skip_h1_title": false,
   "title_cell": "Table of Contents",
   "title_sidebar": "Contents",
   "toc_cell": false,
   "toc_position": {},
   "toc_section_display": true,
   "toc_window_display": false
  },
  "varInspector": {
   "cols": {
    "lenName": 16,
    "lenType": 16,
    "lenVar": 40
   },
   "kernels_config": {
    "python": {
     "delete_cmd_postfix": "",
     "delete_cmd_prefix": "del ",
     "library": "var_list.py",
     "varRefreshCmd": "print(var_dic_list())"
    },
    "r": {
     "delete_cmd_postfix": ") ",
     "delete_cmd_prefix": "rm(",
     "library": "var_list.r",
     "varRefreshCmd": "cat(var_dic_list()) "
    }
   },
   "types_to_exclude": [
    "module",
    "function",
    "builtin_function_or_method",
    "instance",
    "_Feature"
   ],
   "window_display": false
  }
 },
 "nbformat": 4,
 "nbformat_minor": 4
}
